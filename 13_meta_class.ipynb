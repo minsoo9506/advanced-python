{
 "cells": [
  {
   "attachments": {},
   "cell_type": "markdown",
   "metadata": {},
   "source": [
    "# 메타클래스\n",
    "- 동적생성"
   ]
  },
  {
   "cell_type": "code",
   "execution_count": 1,
   "metadata": {},
   "outputs": [],
   "source": [
    "# class도 객체라고 할 수 있다\n",
    "class test:\n",
    "    pass"
   ]
  },
  {
   "cell_type": "code",
   "execution_count": 3,
   "metadata": {},
   "outputs": [],
   "source": [
    "t = test()"
   ]
  },
  {
   "cell_type": "code",
   "execution_count": 10,
   "metadata": {},
   "outputs": [
    {
     "name": "stdout",
     "output_type": "stream",
     "text": [
      "t의 class = <class '__main__.test'>\n",
      "<class '__main__.test'>\n",
      "test의 class = <class 'type'>\n",
      "<class 'type'>\n"
     ]
    }
   ],
   "source": [
    "print(f't의 class = {t.__class__}')\n",
    "print(type(t))\n",
    "print(f'test의 class = {test.__class__}')\n",
    "print(type(test))"
   ]
  },
  {
   "attachments": {},
   "cell_type": "markdown",
   "metadata": {},
   "source": [
    "- 모든 class의 메타클래스는 `type`\n",
    "- 이를 이용해서 동적으로 class를 만들어보자\n",
    "    - `type(이름, 상속, 메소드)`"
   ]
  },
  {
   "cell_type": "code",
   "execution_count": 8,
   "metadata": {},
   "outputs": [
    {
     "name": "stdout",
     "output_type": "stream",
     "text": [
      "<class 'type'>\n"
     ]
    }
   ],
   "source": [
    "a = type('test2', (), {})\n",
    "\n",
    "print(type(a))"
   ]
  },
  {
   "cell_type": "code",
   "execution_count": 13,
   "metadata": {},
   "outputs": [
    {
     "data": {
      "text/plain": [
       "3"
      ]
     },
     "execution_count": 13,
     "metadata": {},
     "output_type": "execute_result"
    }
   ],
   "source": [
    "b = type('test2', (), dict(add=lambda x, y: x + y))\n",
    "\n",
    "b.add(1,2)"
   ]
  },
  {
   "attachments": {},
   "cell_type": "markdown",
   "metadata": {},
   "source": [
    "## 커스텀 메타클래스 생성 (type 상속 x)"
   ]
  },
  {
   "cell_type": "code",
   "execution_count": 13,
   "metadata": {},
   "outputs": [],
   "source": [
    "def cus_mul(self, d):\n",
    "    for i in range(len(self)):\n",
    "        self[i] = self[i] * d"
   ]
  },
  {
   "cell_type": "code",
   "execution_count": 14,
   "metadata": {},
   "outputs": [],
   "source": [
    "CustomList = type(\n",
    "    'CustomList',\n",
    "    (list,),  # list를 상속받음\n",
    "    {\n",
    "        'cus_mul': cus_mul\n",
    "    }\n",
    ")\n",
    "\n",
    "c = CustomList([1,2,3])"
   ]
  },
  {
   "cell_type": "code",
   "execution_count": 15,
   "metadata": {},
   "outputs": [
    {
     "data": {
      "text/plain": [
       "[3, 6, 9]"
      ]
     },
     "execution_count": 15,
     "metadata": {},
     "output_type": "execute_result"
    }
   ],
   "source": [
    "c.cus_mul(3)\n",
    "c"
   ]
  },
  {
   "attachments": {},
   "cell_type": "markdown",
   "metadata": {},
   "source": [
    "- 이처럼 함수를 component처럼 사용해서\n",
    "- 원하는 클래스마다 넣기도 빼기도 하면서 사용가능"
   ]
  },
  {
   "cell_type": "markdown",
   "metadata": {},
   "source": [
    "## 커스텀 메타클래스 생성 (type 상속 o)"
   ]
  },
  {
   "cell_type": "code",
   "execution_count": 26,
   "metadata": {},
   "outputs": [],
   "source": [
    "# new -> init -> call 순서로 실행\n",
    "\n",
    "class CustomMeta(type):\n",
    "\n",
    "    # new에서 생성된 인스턴스 초기화\n",
    "    def __init__(self, object_or_name, bases, dicts):\n",
    "        print(f'__init__: {self}, {object_or_name}, {bases}, {dicts}')\n",
    "        super().__init__(object_or_name, bases, dicts)\n",
    "\n",
    "    # 인스턴스 실행\n",
    "    def __call__(self, *args, **kwargs):\n",
    "        print(f'__call__: {self}, {args}, {kwargs}')\n",
    "        return super().__call__(*args, **kwargs)\n",
    "\n",
    "    # class 인스턴스 생성\n",
    "    def __new__(cls, name, bases, namespaces):\n",
    "        print(f'__new__: {cls}, {name}, {bases}, {namespaces}')\n",
    "        namespaces['desc'] = 'custom'\n",
    "        namespaces['cus_mul'] = cus_mul\n",
    "        return type.__new__(cls, name, bases, namespaces)"
   ]
  },
  {
   "cell_type": "code",
   "execution_count": 27,
   "metadata": {},
   "outputs": [
    {
     "name": "stdout",
     "output_type": "stream",
     "text": [
      "__new__: <class '__main__.CustomMeta'>, CustomList, (<class 'list'>,), {}\n",
      "__init__: <class '__main__.CustomList'>, CustomList, (<class 'list'>,), {'desc': 'custom', 'cus_mul': <function cus_mul at 0x7f69b4195ca0>}\n",
      "__call__: <class '__main__.CustomList'>, ([1, 2, 3, 4, 5],), {}\n"
     ]
    },
    {
     "data": {
      "text/plain": [
       "[3, 6, 9, 12, 15]"
      ]
     },
     "execution_count": 27,
     "metadata": {},
     "output_type": "execute_result"
    }
   ],
   "source": [
    "CustomList2 = CustomMeta('CustomList', (list,), {})\n",
    "\n",
    "c2 = CustomList2([1,2,3,4,5])\n",
    "\n",
    "c2.cus_mul(3)\n",
    "\n",
    "c2"
   ]
  }
 ],
 "metadata": {
  "kernelspec": {
   "display_name": "study",
   "language": "python",
   "name": "python3"
  },
  "language_info": {
   "codemirror_mode": {
    "name": "ipython",
    "version": 3
   },
   "file_extension": ".py",
   "mimetype": "text/x-python",
   "name": "python",
   "nbconvert_exporter": "python",
   "pygments_lexer": "ipython3",
   "version": "3.8.13"
  },
  "orig_nbformat": 4,
  "vscode": {
   "interpreter": {
    "hash": "56473d5c9d8f93c12d0113467ae9f38a05d45f654e656ab5f4aa2cd94fb216b8"
   }
  }
 },
 "nbformat": 4,
 "nbformat_minor": 2
}
