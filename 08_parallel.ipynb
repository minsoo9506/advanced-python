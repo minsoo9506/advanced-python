{
 "cells": [
  {
   "cell_type": "markdown",
   "metadata": {},
   "source": [
    "# Futures"
   ]
  },
  {
   "cell_type": "code",
   "execution_count": 1,
   "metadata": {},
   "outputs": [],
   "source": [
    "import os\n",
    "import time\n",
    "from concurrent import futures"
   ]
  },
  {
   "cell_type": "code",
   "execution_count": 4,
   "metadata": {},
   "outputs": [],
   "source": [
    "WORK_LIST = [10000, 100000, 1000000, 10000000, 100000000]"
   ]
  },
  {
   "cell_type": "code",
   "execution_count": 5,
   "metadata": {},
   "outputs": [],
   "source": [
    "# 동시성 합계\n",
    "\n",
    "def sum_generator(n):\n",
    "    return sum(n for n in range(1, n + 1))"
   ]
  },
  {
   "attachments": {},
   "cell_type": "markdown",
   "metadata": {},
   "source": [
    "## `map`"
   ]
  },
  {
   "cell_type": "markdown",
   "metadata": {},
   "source": [
    "- multi Thread"
   ]
  },
  {
   "cell_type": "code",
   "execution_count": 21,
   "metadata": {},
   "outputs": [
    {
     "name": "stdout",
     "output_type": "stream",
     "text": [
      "time = 4.369\n"
     ]
    }
   ],
   "source": [
    "worker = len(WORK_LIST)\n",
    "\n",
    "start_time= time.time()\n",
    "\n",
    "with futures.ThreadPoolExecutor() as excutor:\n",
    "    result = excutor.map(sum_generator, WORK_LIST)\n",
    "\n",
    "end_time = time.time()\n",
    "\n",
    "print(f'time = {end_time- start_time:.3f}')"
   ]
  },
  {
   "attachments": {},
   "cell_type": "markdown",
   "metadata": {},
   "source": [
    "- multi Process"
   ]
  },
  {
   "cell_type": "code",
   "execution_count": 22,
   "metadata": {},
   "outputs": [
    {
     "name": "stdout",
     "output_type": "stream",
     "text": [
      "time = 3.742\n"
     ]
    }
   ],
   "source": [
    "worker = len(WORK_LIST)\n",
    "\n",
    "start_time= time.time()\n",
    "\n",
    "with futures.ProcessPoolExecutor() as excutor:\n",
    "    result = excutor.map(sum_generator, WORK_LIST)\n",
    "\n",
    "end_time = time.time()\n",
    "\n",
    "print(f'time = {end_time- start_time:.3f}')"
   ]
  },
  {
   "attachments": {},
   "cell_type": "markdown",
   "metadata": {},
   "source": [
    "## `wait`, `as_completed`"
   ]
  },
  {
   "cell_type": "code",
   "execution_count": 2,
   "metadata": {},
   "outputs": [],
   "source": [
    "from concurrent.futures import ThreadPoolExecutor, ProcessPoolExecutor, wait, as_completed"
   ]
  },
  {
   "cell_type": "code",
   "execution_count": 6,
   "metadata": {},
   "outputs": [
    {
     "name": "stdout",
     "output_type": "stream",
     "text": [
      "time = 3.510\n"
     ]
    }
   ],
   "source": [
    "start_time= time.time()\n",
    "\n",
    "futures_list = []\n",
    "\n",
    "with ProcessPoolExecutor() as excutor:\n",
    "    for work in WORK_LIST:\n",
    "        # future 반환\n",
    "        future = excutor.submit(sum_generator, work)  # 여기서 바로 연산실행은 아님\n",
    "        # Scheduling\n",
    "        futures_list.append(future)\n",
    "    # timeout을 걸어둔다\n",
    "    result = wait(futures_list, timeout=3)\n",
    "\n",
    "end_time = time.time()\n",
    "\n",
    "print(f'time = {end_time- start_time:.3f}')"
   ]
  },
  {
   "cell_type": "code",
   "execution_count": 8,
   "metadata": {},
   "outputs": [
    {
     "data": {
      "text/plain": [
       "{<Future at 0x7fe2443a8d00 state=finished returned int>,\n",
       " <Future at 0x7fe2444689d0 state=finished returned int>,\n",
       " <Future at 0x7fe244649790 state=finished returned int>,\n",
       " <Future at 0x7fe244656b20 state=finished returned int>}"
      ]
     },
     "execution_count": 8,
     "metadata": {},
     "output_type": "execute_result"
    }
   ],
   "source": [
    "result.done"
   ]
  },
  {
   "cell_type": "code",
   "execution_count": 11,
   "metadata": {},
   "outputs": [
    {
     "data": {
      "text/plain": [
       "[50000005000000, 50005000, 5000050000, 500000500000]"
      ]
     },
     "execution_count": 11,
     "metadata": {},
     "output_type": "execute_result"
    }
   ],
   "source": [
    "[done_future.result() for done_future in result.done]"
   ]
  },
  {
   "cell_type": "code",
   "execution_count": 9,
   "metadata": {},
   "outputs": [
    {
     "data": {
      "text/plain": [
       "{<Future at 0x7fe2441603d0 state=finished returned int>}"
      ]
     },
     "execution_count": 9,
     "metadata": {},
     "output_type": "execute_result"
    }
   ],
   "source": [
    "result.not_done  # timeout=3 보다 오래걸려서 실패"
   ]
  },
  {
   "cell_type": "code",
   "execution_count": 15,
   "metadata": {},
   "outputs": [
    {
     "name": "stdout",
     "output_type": "stream",
     "text": [
      "time = 3.757\n"
     ]
    }
   ],
   "source": [
    "start_time= time.time()\n",
    "\n",
    "futures_list = []\n",
    "\n",
    "result_list = []\n",
    "done_list = []\n",
    "cancelled_list = []\n",
    "\n",
    "with ProcessPoolExecutor() as excutor:\n",
    "    for work in WORK_LIST:\n",
    "        # future 반환\n",
    "        future = excutor.submit(sum_generator, work)  # 여기서 바로 연산실행은 아님\n",
    "        # Scheduling\n",
    "        futures_list.append(future)\n",
    "    # 먼저 처리되는 결과가 먼저 나온다\n",
    "    for f in as_completed(futures_list):\n",
    "        result_list.append(f.result())\n",
    "        done_list.append(f.done())\n",
    "        cancelled_list.append(future.cancelled())\n",
    "        \n",
    "\n",
    "end_time = time.time()\n",
    "\n",
    "print(f'time = {end_time- start_time:.3f}')"
   ]
  },
  {
   "cell_type": "code",
   "execution_count": 16,
   "metadata": {},
   "outputs": [
    {
     "data": {
      "text/plain": [
       "[50005000, 5000050000, 500000500000, 50000005000000, 5000000050000000]"
      ]
     },
     "execution_count": 16,
     "metadata": {},
     "output_type": "execute_result"
    }
   ],
   "source": [
    "result_list"
   ]
  },
  {
   "cell_type": "code",
   "execution_count": 17,
   "metadata": {},
   "outputs": [
    {
     "data": {
      "text/plain": [
       "[True, True, True, True, True]"
      ]
     },
     "execution_count": 17,
     "metadata": {},
     "output_type": "execute_result"
    }
   ],
   "source": [
    "done_list"
   ]
  },
  {
   "cell_type": "code",
   "execution_count": 18,
   "metadata": {},
   "outputs": [
    {
     "data": {
      "text/plain": [
       "[False, False, False, False, False]"
      ]
     },
     "execution_count": 18,
     "metadata": {},
     "output_type": "execute_result"
    }
   ],
   "source": [
    "cancelled_list"
   ]
  }
 ],
 "metadata": {
  "kernelspec": {
   "display_name": "study",
   "language": "python",
   "name": "python3"
  },
  "language_info": {
   "codemirror_mode": {
    "name": "ipython",
    "version": 3
   },
   "file_extension": ".py",
   "mimetype": "text/x-python",
   "name": "python",
   "nbconvert_exporter": "python",
   "pygments_lexer": "ipython3",
   "version": "3.8.13"
  },
  "orig_nbformat": 4,
  "vscode": {
   "interpreter": {
    "hash": "56473d5c9d8f93c12d0113467ae9f38a05d45f654e656ab5f4aa2cd94fb216b8"
   }
  }
 },
 "nbformat": 4,
 "nbformat_minor": 2
}
