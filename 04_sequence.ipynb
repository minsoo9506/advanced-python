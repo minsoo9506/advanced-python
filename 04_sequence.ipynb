{
 "cells": [
  {
   "attachments": {},
   "cell_type": "markdown",
   "metadata": {},
   "source": [
    "# sequence 형\n",
    "- Container: 서로 다른 자료형을 가질 수 있는 list, tuple, deque\n",
    "- Flat: 한개의 자료형 str, bytes, bytearray, array"
   ]
  },
  {
   "attachments": {},
   "cell_type": "markdown",
   "metadata": {},
   "source": [
    "## 사용예시"
   ]
  },
  {
   "attachments": {},
   "cell_type": "markdown",
   "metadata": {},
   "source": [
    "- generator\n",
    "    - A function which returns a generator iterator\n",
    "- 그렇다면 generator iterator 란?\n",
    "    - An object created by a generator function `next()`로 함수가 실행되다가 `yield`를 만나면 임시적으로 processing을 멈추고 해당 값을 반환한다. 그 상태로 있다가 (함수에 사용된 local변수 등이 사라지지 않고 유지) generator iterator가 다시 시작(`next()` 호출)하면 다음 단계로 넘어간다. 모든 object가 소진되면 끝난다. "
   ]
  },
  {
   "cell_type": "code",
   "execution_count": 5,
   "metadata": {},
   "outputs": [],
   "source": [
    "g = (i for i in 'minsoo')"
   ]
  },
  {
   "cell_type": "code",
   "execution_count": 6,
   "metadata": {},
   "outputs": [
    {
     "data": {
      "text/plain": [
       "<generator object <genexpr> at 0x7ffbf02c7f20>"
      ]
     },
     "execution_count": 6,
     "metadata": {},
     "output_type": "execute_result"
    }
   ],
   "source": [
    "g"
   ]
  },
  {
   "cell_type": "code",
   "execution_count": 7,
   "metadata": {},
   "outputs": [
    {
     "name": "stdout",
     "output_type": "stream",
     "text": [
      "m\n",
      "i\n"
     ]
    }
   ],
   "source": [
    "print(next(g))\n",
    "print(next(g))"
   ]
  },
  {
   "cell_type": "code",
   "execution_count": 9,
   "metadata": {},
   "outputs": [
    {
     "name": "stdout",
     "output_type": "stream",
     "text": [
      "list memory = 256\n",
      "generator memory = 112\n"
     ]
    }
   ],
   "source": [
    "# 리스트\n",
    "[i for i in range(50) if i % 2 == 0]\n",
    "# generator\n",
    "(i for i in range(50) if i % 2 == 0)\n",
    "\n",
    "# 메모리 절약\n",
    "import sys\n",
    "\n",
    "list_size = sys.getsizeof( [i for i in range(50) if i % 2 == 0])\n",
    "get_size = sys.getsizeof((i for i in range(50) if i % 2 == 0))\n",
    "\n",
    "print(f'list memory = {list_size}')\n",
    "print(f'generator memory = {get_size}')"
   ]
  },
  {
   "cell_type": "markdown",
   "metadata": {},
   "source": [
    "## list 사용 주의점"
   ]
  },
  {
   "cell_type": "code",
   "execution_count": 10,
   "metadata": {},
   "outputs": [],
   "source": [
    "x1 = [[1] * 2 for _ in range(2)]\n",
    "x2 = [[1] * 2] * 2"
   ]
  },
  {
   "cell_type": "code",
   "execution_count": 11,
   "metadata": {},
   "outputs": [
    {
     "name": "stdout",
     "output_type": "stream",
     "text": [
      "[[1, 1], [1, 1]]\n",
      "[[1, 1], [1, 1]]\n"
     ]
    }
   ],
   "source": [
    "print(x1)\n",
    "print(x2)"
   ]
  },
  {
   "cell_type": "code",
   "execution_count": 12,
   "metadata": {},
   "outputs": [
    {
     "name": "stdout",
     "output_type": "stream",
     "text": [
      "[[2, 1], [1, 1]]\n",
      "[[2, 1], [2, 1]]\n"
     ]
    }
   ],
   "source": [
    "x1[0][0] = 2\n",
    "x2[0][0] = 2\n",
    "\n",
    "print(x1)\n",
    "print(x2)"
   ]
  },
  {
   "attachments": {},
   "cell_type": "markdown",
   "metadata": {},
   "source": [
    "- 위에서 `x2`는 의도한 바와 다르게 내부 list의 값이 달라진다."
   ]
  },
  {
   "cell_type": "code",
   "execution_count": 13,
   "metadata": {},
   "outputs": [
    {
     "name": "stdout",
     "output_type": "stream",
     "text": [
      "[140720042934656, 140720042928832]\n",
      "[140720042958208, 140720042958208]\n"
     ]
    }
   ],
   "source": [
    "print([id(i) for i in x1])\n",
    "print([id(i) for i in x2])"
   ]
  },
  {
   "attachments": {},
   "cell_type": "markdown",
   "metadata": {},
   "source": [
    "- `x2`의 경우는 내부 list들의 id값이 같다. "
   ]
  },
  {
   "attachments": {},
   "cell_type": "markdown",
   "metadata": {},
   "source": [
    "## Tuple 심화"
   ]
  },
  {
   "cell_type": "markdown",
   "metadata": {},
   "source": [
    "- unpacking"
   ]
  },
  {
   "cell_type": "code",
   "execution_count": 1,
   "metadata": {},
   "outputs": [
    {
     "ename": "TypeError",
     "evalue": "divmod expected 2 arguments, got 1",
     "output_type": "error",
     "traceback": [
      "\u001b[0;31m---------------------------------------------------------------------------\u001b[0m",
      "\u001b[0;31mTypeError\u001b[0m                                 Traceback (most recent call last)",
      "Cell \u001b[0;32mIn[1], line 4\u001b[0m\n\u001b[1;32m      1\u001b[0m \u001b[39m# unpacking\u001b[39;00m\n\u001b[1;32m      2\u001b[0m input_data \u001b[39m=\u001b[39m (\u001b[39m100\u001b[39m, \u001b[39m9\u001b[39m)\n\u001b[0;32m----> 4\u001b[0m \u001b[39mdivmod\u001b[39;49m(input_data)\n",
      "\u001b[0;31mTypeError\u001b[0m: divmod expected 2 arguments, got 1"
     ]
    }
   ],
   "source": [
    "input_data = (100, 9)\n",
    "divmod(input_data)"
   ]
  },
  {
   "cell_type": "code",
   "execution_count": 2,
   "metadata": {},
   "outputs": [
    {
     "data": {
      "text/plain": [
       "(11, 1)"
      ]
     },
     "execution_count": 2,
     "metadata": {},
     "output_type": "execute_result"
    }
   ],
   "source": [
    "input_data = (100, 9)\n",
    "divmod(*input_data)"
   ]
  },
  {
   "cell_type": "code",
   "execution_count": 3,
   "metadata": {},
   "outputs": [
    {
     "name": "stdout",
     "output_type": "stream",
     "text": [
      "0\n",
      "1\n",
      "[2, 3, 4]\n"
     ]
    }
   ],
   "source": [
    "x, y, *rest = range(5)\n",
    "\n",
    "print(x)\n",
    "print(y)\n",
    "print(rest)"
   ]
  },
  {
   "cell_type": "markdown",
   "metadata": {},
   "source": [
    "## mutable, immutable"
   ]
  },
  {
   "cell_type": "code",
   "execution_count": 9,
   "metadata": {},
   "outputs": [
    {
     "name": "stdout",
     "output_type": "stream",
     "text": [
      "(1, 2, 3) 139969093432960\n",
      "[1, 2, 3] 139969093415168\n"
     ]
    }
   ],
   "source": [
    "a = (1, 2, 3)\n",
    "b = [1, 2, 3]\n",
    "\n",
    "print(a, id(a))\n",
    "print(b, id(b))"
   ]
  },
  {
   "cell_type": "code",
   "execution_count": 10,
   "metadata": {},
   "outputs": [
    {
     "name": "stdout",
     "output_type": "stream",
     "text": [
      "(1, 2, 3, 1, 2, 3) 139969093437568\n",
      "[1, 2, 3, 1, 2, 3] 139969093976640\n"
     ]
    }
   ],
   "source": [
    "a = a * 2\n",
    "b = b * 2\n",
    "\n",
    "print(a, id(a))\n",
    "print(b, id(b))"
   ]
  },
  {
   "cell_type": "code",
   "execution_count": 11,
   "metadata": {},
   "outputs": [
    {
     "name": "stdout",
     "output_type": "stream",
     "text": [
      "(1, 2, 3, 1, 2, 3, 1, 2, 3, 1, 2, 3) 139969093771616\n",
      "[1, 2, 3, 1, 2, 3, 1, 2, 3, 1, 2, 3] 139969093976640\n"
     ]
    }
   ],
   "source": [
    "a *= 2\n",
    "b *= 2\n",
    "\n",
    "print(a, id(a))\n",
    "print(b, id(b))"
   ]
  },
  {
   "cell_type": "markdown",
   "metadata": {},
   "source": [
    "- 마지막에 list는 id가 동일하네"
   ]
  },
  {
   "cell_type": "markdown",
   "metadata": {},
   "source": [
    "## sort, sorted"
   ]
  },
  {
   "cell_type": "code",
   "execution_count": null,
   "metadata": {},
   "outputs": [],
   "source": [
    "# reverse, key 옵션"
   ]
  },
  {
   "attachments": {},
   "cell_type": "markdown",
   "metadata": {},
   "source": [
    "- sorted: 정렬 후 새로운 객체 반환\n",
    "- sort: 직접 객체 정렬"
   ]
  },
  {
   "cell_type": "code",
   "execution_count": 16,
   "metadata": {},
   "outputs": [
    {
     "name": "stdout",
     "output_type": "stream",
     "text": [
      "['kim', 'park', 'song']\n",
      "['song', 'park', 'kim']\n",
      "['kim', 'park', 'song']\n",
      "['song', 'park', 'kim']\n",
      "['park', 'song', 'kim']\n"
     ]
    }
   ],
   "source": [
    "a_list = ['park','song', 'kim']\n",
    "\n",
    "print(sorted(a_list))\n",
    "print(sorted(a_list, reverse=True))\n",
    "print(sorted(a_list, key=len))\n",
    "print(sorted(a_list, key=lambda x: x[-1]))\n",
    "\n",
    "print(a_list)"
   ]
  },
  {
   "cell_type": "code",
   "execution_count": 17,
   "metadata": {},
   "outputs": [
    {
     "name": "stdout",
     "output_type": "stream",
     "text": [
      "None\n",
      "['kim', 'park', 'song']\n"
     ]
    }
   ],
   "source": [
    "b_list = ['park','song', 'kim']\n",
    "\n",
    "print(b_list.sort())\n",
    "print(b_list)"
   ]
  },
  {
   "attachments": {},
   "cell_type": "markdown",
   "metadata": {},
   "source": [
    "## Setdefault"
   ]
  },
  {
   "cell_type": "code",
   "execution_count": 3,
   "metadata": {},
   "outputs": [],
   "source": [
    "data = (\n",
    "    ('d1', 1),\n",
    "    ('d1', 2),\n",
    "    ('d2', 3)\n",
    ")"
   ]
  },
  {
   "cell_type": "code",
   "execution_count": 4,
   "metadata": {},
   "outputs": [],
   "source": [
    "new_dict1 = {}\n",
    "new_dict2 = {}"
   ]
  },
  {
   "cell_type": "code",
   "execution_count": 5,
   "metadata": {},
   "outputs": [
    {
     "name": "stdout",
     "output_type": "stream",
     "text": [
      "{'d1': [1, 2], 'd2': [3]}\n"
     ]
    }
   ],
   "source": [
    "# no use Setdefault\n",
    "\n",
    "for k, v in data:\n",
    "    if k in new_dict1:\n",
    "        new_dict1[k].append(v)\n",
    "    else:\n",
    "        new_dict1[k] = [v]\n",
    "\n",
    "print(new_dict1)"
   ]
  },
  {
   "cell_type": "code",
   "execution_count": 6,
   "metadata": {},
   "outputs": [
    {
     "name": "stdout",
     "output_type": "stream",
     "text": [
      "{'d1': [1, 2], 'd2': [3]}\n"
     ]
    }
   ],
   "source": [
    "# Setdefault\n",
    "for k, v in data:\n",
    "    # setdefault(k, []): k가 dict에 없으면 default값 []이 생성됨\n",
    "    new_dict2.setdefault(k, []).append(v)  \n",
    "\n",
    "print(new_dict2)"
   ]
  },
  {
   "cell_type": "markdown",
   "metadata": {},
   "source": [
    "## Immutable dict"
   ]
  },
  {
   "cell_type": "code",
   "execution_count": 7,
   "metadata": {},
   "outputs": [],
   "source": [
    "from types import MappingProxyType"
   ]
  },
  {
   "cell_type": "code",
   "execution_count": 8,
   "metadata": {},
   "outputs": [],
   "source": [
    "d = {'k1':'v1'}"
   ]
  },
  {
   "cell_type": "code",
   "execution_count": 9,
   "metadata": {},
   "outputs": [
    {
     "data": {
      "text/plain": [
       "mappingproxy({'k1': 'v1'})"
      ]
     },
     "execution_count": 9,
     "metadata": {},
     "output_type": "execute_result"
    }
   ],
   "source": [
    "# read only 로 사용\n",
    "d_frozen = MappingProxyType(d)\n",
    "d_frozen"
   ]
  },
  {
   "cell_type": "code",
   "execution_count": 10,
   "metadata": {},
   "outputs": [
    {
     "name": "stdout",
     "output_type": "stream",
     "text": [
      "d's id = 139799442184512\n",
      "d_frozen's id = 139799442241904\n"
     ]
    }
   ],
   "source": [
    "print(f'd\\'s id = {id(d)}')\n",
    "print(f'd_frozen\\'s id = {id(d_frozen)}')"
   ]
  },
  {
   "cell_type": "code",
   "execution_count": 11,
   "metadata": {},
   "outputs": [
    {
     "name": "stdout",
     "output_type": "stream",
     "text": [
      "{'k1': 'v1', 'k2': 'v2'}\n"
     ]
    },
    {
     "ename": "TypeError",
     "evalue": "'mappingproxy' object does not support item assignment",
     "output_type": "error",
     "traceback": [
      "\u001b[0;31m---------------------------------------------------------------------------\u001b[0m",
      "\u001b[0;31mTypeError\u001b[0m                                 Traceback (most recent call last)",
      "Cell \u001b[0;32mIn[11], line 4\u001b[0m\n\u001b[1;32m      1\u001b[0m d[\u001b[39m'\u001b[39m\u001b[39mk2\u001b[39m\u001b[39m'\u001b[39m] \u001b[39m=\u001b[39m \u001b[39m'\u001b[39m\u001b[39mv2\u001b[39m\u001b[39m'\u001b[39m\n\u001b[1;32m      2\u001b[0m \u001b[39mprint\u001b[39m(d)\n\u001b[0;32m----> 4\u001b[0m d_frozen[\u001b[39m'\u001b[39;49m\u001b[39mk2\u001b[39;49m\u001b[39m'\u001b[39;49m] \u001b[39m=\u001b[39m \u001b[39m'\u001b[39m\u001b[39mv2\u001b[39m\u001b[39m'\u001b[39m\n\u001b[1;32m      5\u001b[0m \u001b[39mprint\u001b[39m(d_frozen)\n",
      "\u001b[0;31mTypeError\u001b[0m: 'mappingproxy' object does not support item assignment"
     ]
    }
   ],
   "source": [
    "d['k2'] = 'v2'\n",
    "print(d)\n",
    "\n",
    "d_frozen['k2'] = 'v2'\n",
    "print(d_frozen)"
   ]
  }
 ],
 "metadata": {
  "kernelspec": {
   "display_name": "study",
   "language": "python",
   "name": "python3"
  },
  "language_info": {
   "codemirror_mode": {
    "name": "ipython",
    "version": 3
   },
   "file_extension": ".py",
   "mimetype": "text/x-python",
   "name": "python",
   "nbconvert_exporter": "python",
   "pygments_lexer": "ipython3",
   "version": "3.8.13"
  },
  "orig_nbformat": 4,
  "vscode": {
   "interpreter": {
    "hash": "56473d5c9d8f93c12d0113467ae9f38a05d45f654e656ab5f4aa2cd94fb216b8"
   }
  }
 },
 "nbformat": 4,
 "nbformat_minor": 2
}
