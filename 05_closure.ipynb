{
 "cells": [
  {
   "attachments": {},
   "cell_type": "markdown",
   "metadata": {},
   "source": [
    "- 일급함수 관련해서는 이미 공부를 한 적이 있어서 관련 내용을 따로 정리하지는 않음"
   ]
  },
  {
   "attachments": {},
   "cell_type": "markdown",
   "metadata": {},
   "source": [
    "## `partial`\n",
    "- 인수 고정"
   ]
  },
  {
   "cell_type": "code",
   "execution_count": 1,
   "metadata": {},
   "outputs": [],
   "source": [
    "from functools import partial\n",
    "from operator import add"
   ]
  },
  {
   "cell_type": "code",
   "execution_count": 2,
   "metadata": {},
   "outputs": [],
   "source": [
    "five = partial(add, 5)"
   ]
  },
  {
   "cell_type": "code",
   "execution_count": 3,
   "metadata": {},
   "outputs": [
    {
     "data": {
      "text/plain": [
       "15"
      ]
     },
     "execution_count": 3,
     "metadata": {},
     "output_type": "execute_result"
    }
   ],
   "source": [
    "five(10)"
   ]
  },
  {
   "attachments": {},
   "cell_type": "markdown",
   "metadata": {},
   "source": [
    "## Closure\n",
    "- 참고\n",
    "    - https://shoark7.github.io/programming/python/closure-in-python: 강추\n",
    "    - https://dojang.io/mod/page/view.php?id=2366\n",
    "- 함수를 둘러싼 환경(지역 변수, 코드 등)을 계속 유지하다가, 함수를 호출할 때 다시 꺼내서 사용하는 함수를 클로저(closure)\n",
    "    - 해당 함수는 어떤 함수 내의 중첩된 함수여야 한다.\n",
    "    - 해당 함수는 자신을 둘러싼(enclose) 함수 내의 상태값을 반드시 참조해야 한다.\n",
    "    - 해당 함수를 둘러싼 함수는 이 함수를 반환해야 한다."
   ]
  },
  {
   "cell_type": "code",
   "execution_count": 4,
   "metadata": {},
   "outputs": [
    {
     "name": "stdout",
     "output_type": "stream",
     "text": [
      "before a = 30\n",
      "10\n",
      "30\n",
      "after a = 3\n"
     ]
    }
   ],
   "source": [
    "# 변수 범위\n",
    "\n",
    "a = 30\n",
    "\n",
    "def func(x):\n",
    "    global a\n",
    "    print(x)\n",
    "    print(a)\n",
    "    a = 3\n",
    "\n",
    "print(f'before a = {a}')\n",
    "func(10)\n",
    "print(f'after a = {a}')  # 함수내에서 global을 사용하니까 값이 바뀜"
   ]
  },
  {
   "cell_type": "code",
   "execution_count": 25,
   "metadata": {},
   "outputs": [],
   "source": [
    "# closure\n",
    "\n",
    "def times_multiply(n):\n",
    "    a = 100\n",
    "    def multiply(x):\n",
    "        return a * n * x\n",
    "    return multiply\n",
    "\n",
    "\n",
    "times_3 = times_multiply(3)\n",
    "times_4 = times_multiply(4)"
   ]
  },
  {
   "cell_type": "code",
   "execution_count": 26,
   "metadata": {},
   "outputs": [
    {
     "data": {
      "text/plain": [
       "1200"
      ]
     },
     "execution_count": 26,
     "metadata": {},
     "output_type": "execute_result"
    }
   ],
   "source": [
    "times_3(4)"
   ]
  },
  {
   "cell_type": "code",
   "execution_count": 27,
   "metadata": {},
   "outputs": [
    {
     "data": {
      "text/plain": [
       "1600"
      ]
     },
     "execution_count": 27,
     "metadata": {},
     "output_type": "execute_result"
    }
   ],
   "source": [
    "times_4(4)"
   ]
  },
  {
   "cell_type": "code",
   "execution_count": 17,
   "metadata": {},
   "outputs": [
    {
     "data": {
      "text/plain": [
       "('a', 'n')"
      ]
     },
     "execution_count": 17,
     "metadata": {},
     "output_type": "execute_result"
    }
   ],
   "source": [
    "times_3.__code__.co_freevars  # 자유변수 a, n을 보여준다"
   ]
  },
  {
   "cell_type": "code",
   "execution_count": 22,
   "metadata": {},
   "outputs": [
    {
     "name": "stdout",
     "output_type": "stream",
     "text": [
      "(<cell at 0x7ff830119b20: int object at 0x5556ea971360>, <cell at 0x7ff830119df0: int object at 0x5556ea970740>)\n",
      "100\n",
      "3\n"
     ]
    }
   ],
   "source": [
    "print(times_3.__closure__)\n",
    "print(times_3.__closure__[0].cell_contents)\n",
    "print(times_3.__closure__[1].cell_contents)"
   ]
  },
  {
   "attachments": {},
   "cell_type": "markdown",
   "metadata": {},
   "source": [
    "- 기존의 `times_multiply`함수를 수정해도 closure `times_3`, `times_4`는 그대로 유지된다. "
   ]
  },
  {
   "cell_type": "code",
   "execution_count": 28,
   "metadata": {},
   "outputs": [],
   "source": [
    "def times_multiply(n):\n",
    "    a = 100\n",
    "    def multiply(x):\n",
    "        a += x\n",
    "        return a * n * x\n",
    "    return multiply\n",
    "\n",
    "\n",
    "times_3 = times_multiply(3)\n",
    "times_4 = times_multiply(4)"
   ]
  },
  {
   "cell_type": "code",
   "execution_count": 29,
   "metadata": {},
   "outputs": [
    {
     "ename": "UnboundLocalError",
     "evalue": "local variable 'a' referenced before assignment",
     "output_type": "error",
     "traceback": [
      "\u001b[0;31m---------------------------------------------------------------------------\u001b[0m",
      "\u001b[0;31mUnboundLocalError\u001b[0m                         Traceback (most recent call last)",
      "Cell \u001b[0;32mIn[29], line 1\u001b[0m\n\u001b[0;32m----> 1\u001b[0m times_3(\u001b[39m4\u001b[39;49m)\n",
      "Cell \u001b[0;32mIn[28], line 4\u001b[0m, in \u001b[0;36mtimes_multiply.<locals>.multiply\u001b[0;34m(x)\u001b[0m\n\u001b[1;32m      3\u001b[0m \u001b[39mdef\u001b[39;00m \u001b[39mmultiply\u001b[39m(x):\n\u001b[0;32m----> 4\u001b[0m     a \u001b[39m+\u001b[39m\u001b[39m=\u001b[39m x\n\u001b[1;32m      5\u001b[0m     \u001b[39mreturn\u001b[39;00m a \u001b[39m*\u001b[39m n \u001b[39m*\u001b[39m x\n",
      "\u001b[0;31mUnboundLocalError\u001b[0m: local variable 'a' referenced before assignment"
     ]
    }
   ],
   "source": [
    "times_3(4)"
   ]
  },
  {
   "cell_type": "markdown",
   "metadata": {},
   "source": [
    "- 위와 같은 에러가 발생하는 경우 `nonlocal` 을 사용해야한다."
   ]
  },
  {
   "cell_type": "code",
   "execution_count": 30,
   "metadata": {},
   "outputs": [],
   "source": [
    "def times_multiply(n):\n",
    "    a = 100\n",
    "    def multiply(x):\n",
    "        nonlocal a\n",
    "        a += x\n",
    "        return a * n * x\n",
    "    return multiply\n",
    "\n",
    "\n",
    "times_3 = times_multiply(3)\n",
    "times_4 = times_multiply(4)"
   ]
  },
  {
   "cell_type": "code",
   "execution_count": 31,
   "metadata": {},
   "outputs": [
    {
     "data": {
      "text/plain": [
       "1248"
      ]
     },
     "execution_count": 31,
     "metadata": {},
     "output_type": "execute_result"
    }
   ],
   "source": [
    "times_3(4)"
   ]
  }
 ],
 "metadata": {
  "kernelspec": {
   "display_name": "study",
   "language": "python",
   "name": "python3"
  },
  "language_info": {
   "codemirror_mode": {
    "name": "ipython",
    "version": 3
   },
   "file_extension": ".py",
   "mimetype": "text/x-python",
   "name": "python",
   "nbconvert_exporter": "python",
   "pygments_lexer": "ipython3",
   "version": "3.8.13"
  },
  "orig_nbformat": 4,
  "vscode": {
   "interpreter": {
    "hash": "56473d5c9d8f93c12d0113467ae9f38a05d45f654e656ab5f4aa2cd94fb216b8"
   }
  }
 },
 "nbformat": 4,
 "nbformat_minor": 2
}
