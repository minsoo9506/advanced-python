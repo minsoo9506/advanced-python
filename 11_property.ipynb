{
 "cells": [
  {
   "attachments": {},
   "cell_type": "markdown",
   "metadata": {},
   "source": [
    "- `name`: public\n",
    "- `_name`: protected\n",
    "- `__name`: private"
   ]
  },
  {
   "cell_type": "code",
   "execution_count": 6,
   "metadata": {},
   "outputs": [],
   "source": [
    "class Test:\n",
    "    \n",
    "    def __init__(self):\n",
    "        self.x = 1\n",
    "        self._y = 2\n",
    "        self.__z = 3"
   ]
  },
  {
   "cell_type": "code",
   "execution_count": 5,
   "metadata": {},
   "outputs": [],
   "source": [
    "t = Test()"
   ]
  },
  {
   "cell_type": "code",
   "execution_count": 8,
   "metadata": {},
   "outputs": [
    {
     "name": "stdout",
     "output_type": "stream",
     "text": [
      "1\n",
      "2\n"
     ]
    },
    {
     "ename": "AttributeError",
     "evalue": "'Test' object has no attribute '__z'",
     "output_type": "error",
     "traceback": [
      "\u001b[0;31m---------------------------------------------------------------------------\u001b[0m",
      "\u001b[0;31mAttributeError\u001b[0m                            Traceback (most recent call last)",
      "Cell \u001b[0;32mIn[8], line 3\u001b[0m\n\u001b[1;32m      1\u001b[0m \u001b[39mprint\u001b[39m(t\u001b[39m.\u001b[39mx)\n\u001b[1;32m      2\u001b[0m \u001b[39mprint\u001b[39m(t\u001b[39m.\u001b[39m_y)\n\u001b[0;32m----> 3\u001b[0m \u001b[39mprint\u001b[39m(t\u001b[39m.\u001b[39;49m__z)\n",
      "\u001b[0;31mAttributeError\u001b[0m: 'Test' object has no attribute '__z'"
     ]
    }
   ],
   "source": [
    "print(t.x)\n",
    "print(t._y)\n",
    "print(t.__z)"
   ]
  },
  {
   "attachments": {},
   "cell_type": "markdown",
   "metadata": {},
   "source": [
    "- 위 예시에서 처럼 `__`가 붙은 경우는 직접 접근이 불가능하다.\n",
    "- 하지만 아래 `dir`로 보면 `_Test__z`이 있는 것을 확인할 수 있다. 이 값으로 접근할 수 있다."
   ]
  },
  {
   "cell_type": "code",
   "execution_count": 9,
   "metadata": {},
   "outputs": [
    {
     "data": {
      "text/plain": [
       "['_Test__z',\n",
       " '__class__',\n",
       " '__delattr__',\n",
       " '__dict__',\n",
       " '__dir__',\n",
       " '__doc__',\n",
       " '__eq__',\n",
       " '__format__',\n",
       " '__ge__',\n",
       " '__getattribute__',\n",
       " '__gt__',\n",
       " '__hash__',\n",
       " '__init__',\n",
       " '__init_subclass__',\n",
       " '__le__',\n",
       " '__lt__',\n",
       " '__module__',\n",
       " '__ne__',\n",
       " '__new__',\n",
       " '__reduce__',\n",
       " '__reduce_ex__',\n",
       " '__repr__',\n",
       " '__setattr__',\n",
       " '__sizeof__',\n",
       " '__str__',\n",
       " '__subclasshook__',\n",
       " '__weakref__',\n",
       " '_y',\n",
       " 'x']"
      ]
     },
     "execution_count": 9,
     "metadata": {},
     "output_type": "execute_result"
    }
   ],
   "source": [
    "dir(t)"
   ]
  },
  {
   "attachments": {},
   "cell_type": "markdown",
   "metadata": {},
   "source": [
    "- 이런 접근을 위해 @property, getter,setter를 사용한다.\n",
    "- underscore가 붙은 변수에서만 사용 가능하다."
   ]
  },
  {
   "cell_type": "code",
   "execution_count": 12,
   "metadata": {},
   "outputs": [],
   "source": [
    "class Test:\n",
    "    \n",
    "    def __init__(self):\n",
    "        self.x = 1\n",
    "        self._y = 2\n",
    "        self.__z = 3\n",
    "\n",
    "    @property\n",
    "    def z(self):\n",
    "        return self.__z\n",
    "\n",
    "    @z.setter\n",
    "    def z(self, value):\n",
    "        self.__z = value\n",
    "\n",
    "    @z.deleter\n",
    "    def z(self):\n",
    "        del self.__z"
   ]
  },
  {
   "cell_type": "code",
   "execution_count": 14,
   "metadata": {},
   "outputs": [
    {
     "name": "stdout",
     "output_type": "stream",
     "text": [
      "1\n",
      "2\n",
      "3\n"
     ]
    },
    {
     "ename": "AttributeError",
     "evalue": "'Test' object has no attribute '__z'",
     "output_type": "error",
     "traceback": [
      "\u001b[0;31m---------------------------------------------------------------------------\u001b[0m",
      "\u001b[0;31mAttributeError\u001b[0m                            Traceback (most recent call last)",
      "Cell \u001b[0;32mIn[14], line 6\u001b[0m\n\u001b[1;32m      4\u001b[0m \u001b[39mprint\u001b[39m(t\u001b[39m.\u001b[39m_y)\n\u001b[1;32m      5\u001b[0m \u001b[39mprint\u001b[39m(t\u001b[39m.\u001b[39mz)\n\u001b[0;32m----> 6\u001b[0m \u001b[39mprint\u001b[39m(t\u001b[39m.\u001b[39;49m__z)\n",
      "\u001b[0;31mAttributeError\u001b[0m: 'Test' object has no attribute '__z'"
     ]
    }
   ],
   "source": [
    "t = Test()\n",
    "\n",
    "print(t.x)\n",
    "print(t._y)\n",
    "print(t.z)  # 이렇게 접근가능!\n",
    "print(t.__z)"
   ]
  },
  {
   "cell_type": "code",
   "execution_count": 15,
   "metadata": {},
   "outputs": [
    {
     "data": {
      "text/plain": [
       "100"
      ]
     },
     "execution_count": 15,
     "metadata": {},
     "output_type": "execute_result"
    }
   ],
   "source": [
    "t.z = 100  # 수정도 가능\n",
    "t.z"
   ]
  },
  {
   "cell_type": "markdown",
   "metadata": {},
   "source": [
    "- 그렇다면 setter를 만들지 않으면?"
   ]
  },
  {
   "cell_type": "code",
   "execution_count": 33,
   "metadata": {},
   "outputs": [],
   "source": [
    "class Test:\n",
    "    \n",
    "    def __init__(self):\n",
    "        self._x = 1\n",
    "\n",
    "    @property\n",
    "    def x(self):\n",
    "        return self._x"
   ]
  },
  {
   "cell_type": "code",
   "execution_count": 34,
   "metadata": {},
   "outputs": [
    {
     "data": {
      "text/plain": [
       "1"
      ]
     },
     "execution_count": 34,
     "metadata": {},
     "output_type": "execute_result"
    }
   ],
   "source": [
    "t = Test()\n",
    "\n",
    "t.x  # 읽기 가능"
   ]
  },
  {
   "cell_type": "code",
   "execution_count": 35,
   "metadata": {},
   "outputs": [
    {
     "ename": "AttributeError",
     "evalue": "can't set attribute",
     "output_type": "error",
     "traceback": [
      "\u001b[0;31m---------------------------------------------------------------------------\u001b[0m",
      "\u001b[0;31mAttributeError\u001b[0m                            Traceback (most recent call last)",
      "Cell \u001b[0;32mIn[35], line 1\u001b[0m\n\u001b[0;32m----> 1\u001b[0m t\u001b[39m.\u001b[39;49mx \u001b[39m=\u001b[39m \u001b[39m100\u001b[39m  \u001b[39m# setter를 만들지 않으면 수정은 불가\u001b[39;00m\n",
      "\u001b[0;31mAttributeError\u001b[0m: can't set attribute"
     ]
    }
   ],
   "source": [
    "t.x = 100  # setter를 만들지 않으면 수정은 불가"
   ]
  },
  {
   "cell_type": "markdown",
   "metadata": {},
   "source": [
    "- setter에 조건을 추가"
   ]
  },
  {
   "cell_type": "code",
   "execution_count": 37,
   "metadata": {},
   "outputs": [],
   "source": [
    "class Test:\n",
    "    \n",
    "    def __init__(self):\n",
    "        self.x = 1\n",
    "        self._y = 2\n",
    "        self.__z = 3\n",
    "\n",
    "    @property\n",
    "    def z(self):\n",
    "        return self.__z\n",
    "\n",
    "    @z.setter\n",
    "    def z(self, value):\n",
    "        if value < 0:\n",
    "            raise ValueError(\"0보다 큰 값을 입력하세요\")\n",
    "        self.__z = value"
   ]
  },
  {
   "cell_type": "code",
   "execution_count": 39,
   "metadata": {},
   "outputs": [
    {
     "ename": "ValueError",
     "evalue": "0보다 큰 값을 입력하세요",
     "output_type": "error",
     "traceback": [
      "\u001b[0;31m---------------------------------------------------------------------------\u001b[0m",
      "\u001b[0;31mValueError\u001b[0m                                Traceback (most recent call last)",
      "Cell \u001b[0;32mIn[39], line 3\u001b[0m\n\u001b[1;32m      1\u001b[0m t \u001b[39m=\u001b[39m Test()\n\u001b[0;32m----> 3\u001b[0m t\u001b[39m.\u001b[39;49mz \u001b[39m=\u001b[39m \u001b[39m-\u001b[39m\u001b[39m100\u001b[39m\n",
      "Cell \u001b[0;32mIn[37], line 15\u001b[0m, in \u001b[0;36mTest.z\u001b[0;34m(self, value)\u001b[0m\n\u001b[1;32m     12\u001b[0m \u001b[39m@z\u001b[39m\u001b[39m.\u001b[39msetter\n\u001b[1;32m     13\u001b[0m \u001b[39mdef\u001b[39;00m \u001b[39mz\u001b[39m(\u001b[39mself\u001b[39m, value):\n\u001b[1;32m     14\u001b[0m     \u001b[39mif\u001b[39;00m value \u001b[39m<\u001b[39m \u001b[39m0\u001b[39m:\n\u001b[0;32m---> 15\u001b[0m         \u001b[39mraise\u001b[39;00m \u001b[39mValueError\u001b[39;00m(\u001b[39m\"\u001b[39m\u001b[39m0보다 큰 값을 입력하세요\u001b[39m\u001b[39m\"\u001b[39m)\n\u001b[1;32m     16\u001b[0m     \u001b[39mself\u001b[39m\u001b[39m.\u001b[39m__z \u001b[39m=\u001b[39m value\n",
      "\u001b[0;31mValueError\u001b[0m: 0보다 큰 값을 입력하세요"
     ]
    }
   ],
   "source": [
    "t = Test()\n",
    "\n",
    "t.z = -100"
   ]
  },
  {
   "cell_type": "code",
   "execution_count": null,
   "metadata": {},
   "outputs": [],
   "source": []
  }
 ],
 "metadata": {
  "kernelspec": {
   "display_name": "study",
   "language": "python",
   "name": "python3"
  },
  "language_info": {
   "codemirror_mode": {
    "name": "ipython",
    "version": 3
   },
   "file_extension": ".py",
   "mimetype": "text/x-python",
   "name": "python",
   "nbconvert_exporter": "python",
   "pygments_lexer": "ipython3",
   "version": "3.8.13"
  },
  "orig_nbformat": 4,
  "vscode": {
   "interpreter": {
    "hash": "56473d5c9d8f93c12d0113467ae9f38a05d45f654e656ab5f4aa2cd94fb216b8"
   }
  }
 },
 "nbformat": 4,
 "nbformat_minor": 2
}
