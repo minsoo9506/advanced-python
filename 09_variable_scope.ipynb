{
 "cells": [
  {
   "attachments": {},
   "cell_type": "markdown",
   "metadata": {},
   "source": [
    "# Variable Scope\n",
    "\n",
    "- scope, global, nonlocal, locals, globals"
   ]
  },
  {
   "cell_type": "code",
   "execution_count": 3,
   "metadata": {},
   "outputs": [
    {
     "name": "stdout",
     "output_type": "stream",
     "text": [
      "global a = 10\n"
     ]
    }
   ],
   "source": [
    "# global\n",
    "a = 10\n",
    "\n",
    "def test():\n",
    "    print(f'global a = {a}')\n",
    "\n",
    "test()"
   ]
  },
  {
   "cell_type": "code",
   "execution_count": 4,
   "metadata": {},
   "outputs": [
    {
     "name": "stdout",
     "output_type": "stream",
     "text": [
      "b = 20\n"
     ]
    }
   ],
   "source": [
    "b = 10\n",
    "\n",
    "def test():\n",
    "    b = 20\n",
    "    # 먼저 local scope에서 해당 변수가 있는지 찾는다\n",
    "    # 없으면 global scope으로 가는 것!\n",
    "    print(f\"b = {b}\") \n",
    "\n",
    "test()"
   ]
  },
  {
   "cell_type": "code",
   "execution_count": 5,
   "metadata": {},
   "outputs": [
    {
     "ename": "UnboundLocalError",
     "evalue": "local variable 'c' referenced before assignment",
     "output_type": "error",
     "traceback": [
      "\u001b[0;31m---------------------------------------------------------------------------\u001b[0m",
      "\u001b[0;31mUnboundLocalError\u001b[0m                         Traceback (most recent call last)",
      "Cell \u001b[0;32mIn[5], line 7\u001b[0m\n\u001b[1;32m      4\u001b[0m     c \u001b[39m=\u001b[39m c \u001b[39m+\u001b[39m \u001b[39m10\u001b[39m\n\u001b[1;32m      5\u001b[0m     \u001b[39mprint\u001b[39m(\u001b[39mf\u001b[39m\u001b[39m'\u001b[39m\u001b[39mc = \u001b[39m\u001b[39m{\u001b[39;00mc\u001b[39m}\u001b[39;00m\u001b[39m'\u001b[39m)\n\u001b[0;32m----> 7\u001b[0m test()\n",
      "Cell \u001b[0;32mIn[5], line 4\u001b[0m, in \u001b[0;36mtest\u001b[0;34m()\u001b[0m\n\u001b[1;32m      3\u001b[0m \u001b[39mdef\u001b[39;00m \u001b[39mtest\u001b[39m():\n\u001b[0;32m----> 4\u001b[0m     c \u001b[39m=\u001b[39m c \u001b[39m+\u001b[39m \u001b[39m10\u001b[39m\n\u001b[1;32m      5\u001b[0m     \u001b[39mprint\u001b[39m(\u001b[39mf\u001b[39m\u001b[39m'\u001b[39m\u001b[39mc = \u001b[39m\u001b[39m{\u001b[39;00mc\u001b[39m}\u001b[39;00m\u001b[39m'\u001b[39m)\n",
      "\u001b[0;31mUnboundLocalError\u001b[0m: local variable 'c' referenced before assignment"
     ]
    }
   ],
   "source": [
    "c = 10\n",
    "\n",
    "def test():\n",
    "    c = c + 10\n",
    "    print(f'c = {c}')\n",
    "\n",
    "test()"
   ]
  },
  {
   "attachments": {},
   "cell_type": "markdown",
   "metadata": {},
   "source": [
    "- 위의 경우 에러가 발생한다.\n",
    "- 이런 경우, `global`이라는 예약어를 사용한다."
   ]
  },
  {
   "cell_type": "code",
   "execution_count": null,
   "metadata": {},
   "outputs": [
    {
     "name": "stdout",
     "output_type": "stream",
     "text": [
      "d = 20\n",
      "d = 30\n"
     ]
    }
   ],
   "source": [
    "d = 10\n",
    "\n",
    "def test():\n",
    "    global d\n",
    "    d = 20\n",
    "    print(f'd = {d}')\n",
    "    d += 10\n",
    "    print(f'd = {d}')\n",
    "\n",
    "test()"
   ]
  },
  {
   "cell_type": "markdown",
   "metadata": {},
   "source": [
    "- 클로저"
   ]
  },
  {
   "cell_type": "code",
   "execution_count": null,
   "metadata": {},
   "outputs": [
    {
     "ename": "UnboundLocalError",
     "evalue": "local variable 'e' referenced before assignment",
     "output_type": "error",
     "traceback": [
      "\u001b[0;31m---------------------------------------------------------------------------\u001b[0m",
      "\u001b[0;31mUnboundLocalError\u001b[0m                         Traceback (most recent call last)",
      "Cell \u001b[0;32mIn[8], line 9\u001b[0m\n\u001b[1;32m      6\u001b[0m     \u001b[39mreturn\u001b[39;00m inner\n\u001b[1;32m      8\u001b[0m closure_func \u001b[39m=\u001b[39m out()\n\u001b[0;32m----> 9\u001b[0m closure_func()\n",
      "Cell \u001b[0;32mIn[8], line 4\u001b[0m, in \u001b[0;36mout.<locals>.inner\u001b[0;34m()\u001b[0m\n\u001b[1;32m      3\u001b[0m \u001b[39mdef\u001b[39;00m \u001b[39minner\u001b[39m():\n\u001b[0;32m----> 4\u001b[0m     e \u001b[39m+\u001b[39m\u001b[39m=\u001b[39m \u001b[39m10\u001b[39m\n\u001b[1;32m      5\u001b[0m     \u001b[39mprint\u001b[39m(\u001b[39mf\u001b[39m\u001b[39m'\u001b[39m\u001b[39me = \u001b[39m\u001b[39m{\u001b[39;00me\u001b[39m}\u001b[39;00m\u001b[39m'\u001b[39m)\n",
      "\u001b[0;31mUnboundLocalError\u001b[0m: local variable 'e' referenced before assignment"
     ]
    }
   ],
   "source": [
    "def out():\n",
    "    e = 10\n",
    "    def inner():\n",
    "        e += 10\n",
    "        print(f'e = {e}')\n",
    "    return inner\n",
    "\n",
    "closure_func = out()\n",
    "closure_func()"
   ]
  },
  {
   "cell_type": "markdown",
   "metadata": {},
   "source": [
    "- 이 또한 에러가 발생한다.\n",
    "- `nonlocal`"
   ]
  },
  {
   "cell_type": "code",
   "execution_count": null,
   "metadata": {},
   "outputs": [
    {
     "name": "stdout",
     "output_type": "stream",
     "text": [
      "e = 20\n",
      "e = 30\n",
      "e = 40\n"
     ]
    }
   ],
   "source": [
    "def out():\n",
    "    e = 10\n",
    "    def inner():\n",
    "        nonlocal e\n",
    "        e += 10\n",
    "        print(f'e = {e}')\n",
    "    return inner\n",
    "\n",
    "closure_func = out()\n",
    "closure_func()\n",
    "closure_func()\n",
    "closure_func()"
   ]
  },
  {
   "cell_type": "markdown",
   "metadata": {},
   "source": [
    "- `locals()` 를 통해서 지역 변수 확인 가능"
   ]
  },
  {
   "cell_type": "code",
   "execution_count": 9,
   "metadata": {},
   "outputs": [
    {
     "name": "stdout",
     "output_type": "stream",
     "text": [
      "out local variable = {'out_var': 10, 'inner': <function out.<locals>.inner at 0x7f4bb35e3790>}\n",
      "inner local variable = {'inner_var': 20}\n"
     ]
    }
   ],
   "source": [
    "def out():\n",
    "    out_var = 10\n",
    "    def inner():\n",
    "        inner_var = 20\n",
    "        print(f'inner local variable = {locals()}')\n",
    "    print(f'out local variable = {locals()}')\n",
    "    return inner\n",
    "\n",
    "closure_func = out()\n",
    "closure_func()"
   ]
  }
 ],
 "metadata": {
  "kernelspec": {
   "display_name": "study",
   "language": "python",
   "name": "python3"
  },
  "language_info": {
   "codemirror_mode": {
    "name": "ipython",
    "version": 3
   },
   "file_extension": ".py",
   "mimetype": "text/x-python",
   "name": "python",
   "nbconvert_exporter": "python",
   "pygments_lexer": "ipython3",
   "version": "3.8.13"
  },
  "orig_nbformat": 4,
  "vscode": {
   "interpreter": {
    "hash": "56473d5c9d8f93c12d0113467ae9f38a05d45f654e656ab5f4aa2cd94fb216b8"
   }
  }
 },
 "nbformat": 4,
 "nbformat_minor": 2
}
