{
 "cells": [
  {
   "attachments": {},
   "cell_type": "markdown",
   "metadata": {},
   "source": [
    "# decorator\n",
    "- 코드 로깅\n",
    "- 파라미터 유효성 검사\n",
    "- retry 로직 구현\n",
    "- 반복작업을 데코레이터에 넣어서 코드 단순화"
   ]
  },
  {
   "cell_type": "code",
   "execution_count": 1,
   "metadata": {},
   "outputs": [],
   "source": [
    "import time"
   ]
  },
  {
   "cell_type": "code",
   "execution_count": 12,
   "metadata": {},
   "outputs": [],
   "source": [
    "def perf_time(func):\n",
    "    def perf_clock(*args):\n",
    "        start_time = time.perf_counter()\n",
    "        result = func(*args)\n",
    "        end_time = time.perf_counter()\n",
    "        name = func.__name__\n",
    "        args_str = ', '.join(repr(arg) for arg in args)\n",
    "        print(f'time: {end_time - start_time:.5f} with {args_str}')\n",
    "        return result\n",
    "    return perf_clock"
   ]
  },
  {
   "cell_type": "markdown",
   "metadata": {},
   "source": [
    "- decorator 미사용"
   ]
  },
  {
   "cell_type": "code",
   "execution_count": 24,
   "metadata": {},
   "outputs": [],
   "source": [
    "def sum_func(x: list):\n",
    "    time.sleep(1)\n",
    "    return sum(x)"
   ]
  },
  {
   "cell_type": "code",
   "execution_count": 25,
   "metadata": {},
   "outputs": [
    {
     "name": "stdout",
     "output_type": "stream",
     "text": [
      "time: 1.00106 with [1, 2, 3, 4, 5]\n"
     ]
    },
    {
     "data": {
      "text/plain": [
       "15"
      ]
     },
     "execution_count": 25,
     "metadata": {},
     "output_type": "execute_result"
    }
   ],
   "source": [
    "sum_func = perf_time(sum_func)\n",
    "\n",
    "sum_func([1,2,3,4,5])"
   ]
  },
  {
   "cell_type": "markdown",
   "metadata": {},
   "source": [
    "- decorator 사용"
   ]
  },
  {
   "cell_type": "code",
   "execution_count": 22,
   "metadata": {},
   "outputs": [],
   "source": [
    "@perf_time\n",
    "def sum_func(x: list):\n",
    "    time.sleep(1)\n",
    "    return sum(x)"
   ]
  },
  {
   "cell_type": "code",
   "execution_count": 23,
   "metadata": {},
   "outputs": [
    {
     "name": "stdout",
     "output_type": "stream",
     "text": [
      "time: 1.00104 with [1, 2, 3, 4, 5]\n"
     ]
    },
    {
     "data": {
      "text/plain": [
       "15"
      ]
     },
     "execution_count": 23,
     "metadata": {},
     "output_type": "execute_result"
    }
   ],
   "source": [
    "sum_func([1,2,3,4,5])"
   ]
  },
  {
   "attachments": {},
   "cell_type": "markdown",
   "metadata": {},
   "source": [
    "- decorator를 사용하면 위의 미사용 부분이 저절로 진행되는 것! \n",
    "- 즉, decorator는 syntax sugar!\n",
    "- 원래는 함수를 위해 고안되었지만 어떤 종류의 객체에도 적용이 가능하다.\n",
    "    - 함수, 메서드, 제너레이터, 클래스 등"
   ]
  },
  {
   "attachments": {},
   "cell_type": "markdown",
   "metadata": {},
   "source": [
    "- decorator가 인자를 받도록 구현할 수도 있다.\n",
    "    - 방법1: 중첩함수를 한 단계 더 깊게 구현\n",
    "    - 방법2: decorator를 위한 class 구현 -> 이게 가독성이 더 좋다\n",
    "\n",
    "\n",
    "```python\n",
    "func = retry(arg1, arg2, ...)(func)\n",
    "```"
   ]
  },
  {
   "cell_type": "code",
   "execution_count": 2,
   "metadata": {},
   "outputs": [],
   "source": [
    "# 방법1\n",
    "\n",
    "def with_retry(num_retry: int):\n",
    "    def retry(func):\n",
    "        def wrapped(*args, **kwargs):\n",
    "            for _ in range(num_retry):\n",
    "                try:\n",
    "                    return func(*args, **kwargs)\n",
    "                except:\n",
    "                    print('Fail')\n",
    "        return wrapped\n",
    "    return retry\n",
    "    \n",
    "@with_retry(num_retry=5)\n",
    "def tmp_func():\n",
    "    pass"
   ]
  },
  {
   "cell_type": "code",
   "execution_count": 3,
   "metadata": {},
   "outputs": [],
   "source": [
    "# 방법2\n",
    "\n",
    "class WithRetry:\n",
    "\n",
    "    def __init__(self, num_retry: int):\n",
    "        self.num_retry = num_retry\n",
    "\n",
    "    def __call__(self, func):\n",
    "        def wrapped(*args, **kwargs):\n",
    "            for _ in range(self.num_retry):\n",
    "                try:\n",
    "                    return func(*args, **kwargs)\n",
    "                except:\n",
    "                    print('Fail')\n",
    "        return wrapped\n",
    "    \n",
    "@WithRetry(num_retry=5)  # 먼저, 객체가 생성되고 @연산이 호출된다.\n",
    "def tmp_func():\n",
    "    pass"
   ]
  },
  {
   "cell_type": "markdown",
   "metadata": {},
   "source": [
    "## decorator 활용시 유의할 점"
   ]
  },
  {
   "attachments": {},
   "cell_type": "markdown",
   "metadata": {},
   "source": [
    "- `@wraps(func)`"
   ]
  },
  {
   "cell_type": "code",
   "execution_count": 16,
   "metadata": {},
   "outputs": [],
   "source": [
    "# decorator\n",
    "\n",
    "def trace(func):\n",
    "    def wrapped(*args, **kwargs):\n",
    "        print(\"tracing...\")\n",
    "        return func(*args, **kwargs)\n",
    "    return wrapped"
   ]
  },
  {
   "cell_type": "code",
   "execution_count": 17,
   "metadata": {},
   "outputs": [],
   "source": [
    "@trace\n",
    "def func1(id):\n",
    "    \"\"\"func1의 docstring\"\"\"\n",
    "    print(id)"
   ]
  },
  {
   "cell_type": "code",
   "execution_count": 18,
   "metadata": {},
   "outputs": [
    {
     "name": "stdout",
     "output_type": "stream",
     "text": [
      "Help on function wrapped in module __main__:\n",
      "\n",
      "wrapped(*args, **kwargs)\n",
      "\n"
     ]
    }
   ],
   "source": [
    "help(func1)"
   ]
  },
  {
   "cell_type": "code",
   "execution_count": 19,
   "metadata": {},
   "outputs": [
    {
     "name": "stdout",
     "output_type": "stream",
     "text": [
      "\u001b[0;31mSignature:\u001b[0m \u001b[0mfunc1\u001b[0m\u001b[0;34m(\u001b[0m\u001b[0;34m*\u001b[0m\u001b[0margs\u001b[0m\u001b[0;34m,\u001b[0m \u001b[0;34m**\u001b[0m\u001b[0mkwargs\u001b[0m\u001b[0;34m)\u001b[0m\u001b[0;34m\u001b[0m\u001b[0;34m\u001b[0m\u001b[0m\n",
      "\u001b[0;31mDocstring:\u001b[0m <no docstring>\n",
      "\u001b[0;31mFile:\u001b[0m      /tmp/ipykernel_9773/1200381661.py\n",
      "\u001b[0;31mType:\u001b[0m      function"
     ]
    }
   ],
   "source": [
    "func1?"
   ]
  },
  {
   "cell_type": "code",
   "execution_count": 6,
   "metadata": {},
   "outputs": [
    {
     "data": {
      "text/plain": [
       "'trace.<locals>.wrapped'"
      ]
     },
     "execution_count": 6,
     "metadata": {},
     "output_type": "execute_result"
    }
   ],
   "source": [
    "func1.__qualname__"
   ]
  },
  {
   "attachments": {},
   "cell_type": "markdown",
   "metadata": {},
   "source": [
    "- 위처럼 우리가 의도하는 방향과 다른 결과가 나온다\n",
    "- 이를 해결하기 위해서는 `@wraps`를 이용한다."
   ]
  },
  {
   "cell_type": "code",
   "execution_count": 20,
   "metadata": {},
   "outputs": [],
   "source": [
    "# decorator\n",
    "\n",
    "from functools import wraps\n",
    "\n",
    "def trace(func):\n",
    "    @wraps(func)\n",
    "    def wrapped(*args, **kwargs):\n",
    "        print(\"tracing...\")\n",
    "        return func(*args, **kwargs)\n",
    "    return wrapped"
   ]
  },
  {
   "cell_type": "code",
   "execution_count": 21,
   "metadata": {},
   "outputs": [],
   "source": [
    "@trace\n",
    "def func1(id):\n",
    "    \"\"\"func1의 docstring\"\"\"\n",
    "    print(id)"
   ]
  },
  {
   "cell_type": "code",
   "execution_count": 22,
   "metadata": {},
   "outputs": [
    {
     "name": "stdout",
     "output_type": "stream",
     "text": [
      "Help on function func1 in module __main__:\n",
      "\n",
      "func1(id)\n",
      "    func1의 docstring\n",
      "\n"
     ]
    }
   ],
   "source": [
    "help(func1)"
   ]
  },
  {
   "cell_type": "code",
   "execution_count": 23,
   "metadata": {},
   "outputs": [
    {
     "name": "stdout",
     "output_type": "stream",
     "text": [
      "\u001b[0;31mSignature:\u001b[0m \u001b[0mfunc1\u001b[0m\u001b[0;34m(\u001b[0m\u001b[0mid\u001b[0m\u001b[0;34m)\u001b[0m\u001b[0;34m\u001b[0m\u001b[0;34m\u001b[0m\u001b[0m\n",
      "\u001b[0;31mDocstring:\u001b[0m func1의 docstring\n",
      "\u001b[0;31mFile:\u001b[0m      /tmp/ipykernel_9773/736433078.py\n",
      "\u001b[0;31mType:\u001b[0m      function"
     ]
    }
   ],
   "source": [
    "func1?"
   ]
  },
  {
   "cell_type": "code",
   "execution_count": 24,
   "metadata": {},
   "outputs": [
    {
     "data": {
      "text/plain": [
       "'func1'"
      ]
     },
     "execution_count": 24,
     "metadata": {},
     "output_type": "execute_result"
    }
   ],
   "source": [
    "func1.__qualname__"
   ]
  },
  {
   "cell_type": "markdown",
   "metadata": {},
   "source": [
    "## decorator 관련 팁"
   ]
  },
  {
   "attachments": {},
   "cell_type": "markdown",
   "metadata": {},
   "source": [
    "- decorator가 적어도 3회 이상 필요한 경우에 구현한다. \n",
    "- 처음부터 무작정 만들지 말고 패턴이 생기고 decorator 구현에 대한 추상화가 명확해지면 만들자.\n",
    "- 하나의 decorator는 하나의 기능을 갖도록 구현한다.\n",
    "- 함수를 위한 decorator를 만드는 경우 가능한 경우 원래의 함수 signature와 일치하도록 만든다. `*args`, `**kwargs` 보다 원본 함수와 유사하게 만들면 유지보수가 쉽다."
   ]
  },
  {
   "attachments": {},
   "cell_type": "markdown",
   "metadata": {},
   "source": [
    "- 캡슐화와 관심사의 분리\n",
    "    - 실제로 하는 일과 데코레이팅하는 일의 책임을 명확히 구분해야 함\n",
    "    - 데코레이터 사용자는 데코레이터의 내부구조를 알 필요 없이 블랙박스로 동작해야 함\n",
    "- 독립성\n",
    "    - 데코레이터가 하는 일은 독립적이여야 함\n",
    "    - 테코레이팅되는 객체와 최대한 분리되어야 함\n",
    "- 재사용성\n",
    "    - 하나의 함수 인스턴스가 아니라 범용적이어야 함"
   ]
  }
 ],
 "metadata": {
  "kernelspec": {
   "display_name": "study",
   "language": "python",
   "name": "python3"
  },
  "language_info": {
   "codemirror_mode": {
    "name": "ipython",
    "version": 3
   },
   "file_extension": ".py",
   "mimetype": "text/x-python",
   "name": "python",
   "nbconvert_exporter": "python",
   "pygments_lexer": "ipython3",
   "version": "3.8.13"
  },
  "orig_nbformat": 4,
  "vscode": {
   "interpreter": {
    "hash": "56473d5c9d8f93c12d0113467ae9f38a05d45f654e656ab5f4aa2cd94fb216b8"
   }
  }
 },
 "nbformat": 4,
 "nbformat_minor": 2
}
