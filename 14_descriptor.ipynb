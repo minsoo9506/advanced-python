{
 "cells": [
  {
   "attachments": {},
   "cell_type": "markdown",
   "metadata": {},
   "source": [
    "# Descriptor\n",
    "- read, write, delete 등을 미리 정의 가능\n",
    "- 읽기 전용 객체 생성에 장점이 있음"
   ]
  },
  {
   "cell_type": "markdown",
   "metadata": {},
   "source": [
    "## 예시1"
   ]
  },
  {
   "cell_type": "code",
   "execution_count": 29,
   "metadata": {},
   "outputs": [],
   "source": [
    "class Descriptor:\n",
    "    def __init__(self, name='minsoo'):\n",
    "        self.name = name\n",
    "\n",
    "    def __get__(self, obj, obj_type):\n",
    "        return f'get method called! self={self}, obj={obj}, obj_type={obj_type}, name={self.name}'\n",
    "\n",
    "    def __set__(self, obj, name):\n",
    "        print('set method called')\n",
    "        if isinstance(name, str):\n",
    "            self.name = name\n",
    "        else:\n",
    "            raise TypeError('name should be string')\n",
    "\n",
    "    def __delete(self, obj):\n",
    "        print('delete method called')\n",
    "        self.name = None"
   ]
  },
  {
   "cell_type": "code",
   "execution_count": 30,
   "metadata": {},
   "outputs": [],
   "source": [
    "class Test:\n",
    "    name = Descriptor()"
   ]
  },
  {
   "cell_type": "code",
   "execution_count": 31,
   "metadata": {},
   "outputs": [],
   "source": [
    "t = Test()"
   ]
  },
  {
   "cell_type": "code",
   "execution_count": 32,
   "metadata": {},
   "outputs": [
    {
     "data": {
      "text/plain": [
       "\"get method called! self=<__main__.Descriptor object at 0x7f86cc3051c0>, obj=<__main__.Test object at 0x7f86cc2ac970>, obj_type=<class '__main__.Test'>, name=minsoo\""
      ]
     },
     "execution_count": 32,
     "metadata": {},
     "output_type": "execute_result"
    }
   ],
   "source": [
    "t.name"
   ]
  },
  {
   "cell_type": "code",
   "execution_count": 33,
   "metadata": {},
   "outputs": [
    {
     "name": "stdout",
     "output_type": "stream",
     "text": [
      "set method called\n"
     ]
    }
   ],
   "source": [
    "t.name = 'songminsoo'"
   ]
  },
  {
   "cell_type": "code",
   "execution_count": 34,
   "metadata": {},
   "outputs": [
    {
     "data": {
      "text/plain": [
       "\"get method called! self=<__main__.Descriptor object at 0x7f86cc3051c0>, obj=<__main__.Test object at 0x7f86cc2ac970>, obj_type=<class '__main__.Test'>, name=songminsoo\""
      ]
     },
     "execution_count": 34,
     "metadata": {},
     "output_type": "execute_result"
    }
   ],
   "source": [
    "t.name"
   ]
  },
  {
   "cell_type": "markdown",
   "metadata": {},
   "source": [
    "## 예시2"
   ]
  },
  {
   "cell_type": "code",
   "execution_count": 35,
   "metadata": {},
   "outputs": [],
   "source": [
    "import os"
   ]
  },
  {
   "cell_type": "code",
   "execution_count": 39,
   "metadata": {},
   "outputs": [],
   "source": [
    "class DirectoryFileCount:\n",
    "    def __get__(self, obj, obj_type=None):\n",
    "        print(os.listdir(obj.dirname))\n",
    "        return len(os.listdir(obj.dirname))\n",
    "\n",
    "class DirectoryPath:\n",
    "    size = DirectoryFileCount()  # 어떤 경로던 파일의 갯수를 셀 때 사용\n",
    "\n",
    "    def __init__(self, dirname):\n",
    "        self.dirname = dirname"
   ]
  },
  {
   "cell_type": "code",
   "execution_count": 40,
   "metadata": {},
   "outputs": [],
   "source": [
    "s = DirectoryPath('./')"
   ]
  },
  {
   "cell_type": "code",
   "execution_count": 41,
   "metadata": {},
   "outputs": [
    {
     "name": "stdout",
     "output_type": "stream",
     "text": [
      "['06_decorator.ipynb', '05_closure.ipynb', 'README.md', '13_meta_class.ipynb', '08_parallel.ipynb', '07_concurrency.ipynb', 'test.txt', '11_property.ipynb', '01_class.ipynb', '.gitignore', '09_variable_scope.ipynb', '04_sequence.ipynb', '14_descriptor.ipynb', '03_named_tuple.ipynb', '12_method_over.ipynb', '10_context_manager.ipynb', '.vscode', '02_magic_method.ipynb', '.git']\n"
     ]
    },
    {
     "data": {
      "text/plain": [
       "19"
      ]
     },
     "execution_count": 41,
     "metadata": {},
     "output_type": "execute_result"
    }
   ],
   "source": [
    "s.size"
   ]
  }
 ],
 "metadata": {
  "kernelspec": {
   "display_name": "study",
   "language": "python",
   "name": "python3"
  },
  "language_info": {
   "codemirror_mode": {
    "name": "ipython",
    "version": 3
   },
   "file_extension": ".py",
   "mimetype": "text/x-python",
   "name": "python",
   "nbconvert_exporter": "python",
   "pygments_lexer": "ipython3",
   "version": "3.8.13"
  },
  "orig_nbformat": 4,
  "vscode": {
   "interpreter": {
    "hash": "56473d5c9d8f93c12d0113467ae9f38a05d45f654e656ab5f4aa2cd94fb216b8"
   }
  }
 },
 "nbformat": 4,
 "nbformat_minor": 2
}
