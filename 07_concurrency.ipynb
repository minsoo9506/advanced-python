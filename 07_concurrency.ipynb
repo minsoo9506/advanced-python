{
 "cells": [
  {
   "attachments": {},
   "cell_type": "markdown",
   "metadata": {},
   "source": [
    "# iterator\n",
    "- An object representing a stream of data\n",
    "- 작동원리\n",
    "    - Repeated calls to the iterator’s `__next__()` method (or passing it to the built-in function `next()`) return successive items in the stream\n",
    "    - list, tuple, set, dict 등은 iterable이지만 iterator는 아니다 (`next()` 함수 씌우면 에러발생)\n",
    "- When no more data are available a StopIteration exception is raised instead\n",
    "- Iterators are required to have an `__iter__()` method that returns the iterator object itself so every iterator is also iterable"
   ]
  },
  {
   "cell_type": "code",
   "execution_count": 4,
   "metadata": {},
   "outputs": [
    {
     "name": "stdout",
     "output_type": "stream",
     "text": [
      "True\n",
      "True\n",
      "False\n",
      "True\n"
     ]
    }
   ],
   "source": [
    "# iterable, iterator 인지 확인하는 과정 예시\n",
    "\n",
    "x = 'songminsoo'\n",
    "\n",
    "# 1 hasattr\n",
    "print(hasattr(x, '__iter__'))\n",
    "\n",
    "# abc\n",
    "from collections import abc\n",
    "print(isinstance(x, abc.Iterable))\n",
    "print(isinstance(x, abc.Iterator))\n",
    "\n",
    "x = iter(x)\n",
    "print(isinstance(x, abc.Iterator))"
   ]
  },
  {
   "attachments": {},
   "cell_type": "markdown",
   "metadata": {},
   "source": [
    "# generator\n",
    "- A function which returns a generator iterator\n",
    "    - 그렇다면 generator iterator 란?\n",
    "    - An object created by a generator function\n",
    "- `next()`로 함수가 실행되다가 `yield`를 만나면 임시적으로 processing을 멈추고 해당 값을 반환한다. 그 상태로 있다가 (함수에 사용된 local변수 등이 사라지지 않고 유지) generator iterator가 다시 시작(`next()` 호출)하면 다음 단계로 넘어간다. 모든 object가 소진되면 끝난다.\n",
    "- It looks like a normal function except that it contains yield expressions for producing a series of values usable in a for-loop or that can be retrieved one at a time with the next() function\n",
    "- 쉽게 생각하면 yield로 iterator를 만든다고 이해할 수 있다.\n"
   ]
  },
  {
   "cell_type": "code",
   "execution_count": 8,
   "metadata": {},
   "outputs": [
    {
     "name": "stdout",
     "output_type": "stream",
     "text": [
      "Hi\n",
      "I'm\n",
      "minsoo\n"
     ]
    }
   ],
   "source": [
    "# yield\n",
    "\n",
    "class WordGenerator:\n",
    "    def __init__(self, text):\n",
    "        self._text = text.split(' ')\n",
    "\n",
    "    def __iter__(self):\n",
    "        for word in self._text:\n",
    "            yield word\n",
    "\n",
    "wg = WordGenerator(\"Hi I'm minsoo\")\n",
    "wg = iter(wg)\n",
    "\n",
    "print(next(wg))\n",
    "print(next(wg))\n",
    "print(next(wg))"
   ]
  },
  {
   "cell_type": "markdown",
   "metadata": {},
   "source": [
    "## generator 주요함수"
   ]
  },
  {
   "cell_type": "code",
   "execution_count": 1,
   "metadata": {},
   "outputs": [],
   "source": [
    "import itertools"
   ]
  },
  {
   "cell_type": "code",
   "execution_count": null,
   "metadata": {},
   "outputs": [],
   "source": [
    "# count\n",
    "# 무한대로 증가\n",
    "# gen1 = itertools.count(1, 1)"
   ]
  },
  {
   "cell_type": "code",
   "execution_count": null,
   "metadata": {},
   "outputs": [],
   "source": [
    "# takewhile\n",
    "gen2 = itertools.takewhile(lambda n: n < 1000, itertools.count(1, 1))"
   ]
  },
  {
   "cell_type": "code",
   "execution_count": null,
   "metadata": {},
   "outputs": [],
   "source": [
    "# accumulate\n",
    "gen3 = itertools.accumulate([x for x in range(1, 101)])"
   ]
  },
  {
   "cell_type": "code",
   "execution_count": 3,
   "metadata": {},
   "outputs": [
    {
     "name": "stdout",
     "output_type": "stream",
     "text": [
      "A :  ['A', 'A', 'A']\n",
      "B :  ['B', 'B', 'B']\n",
      "C :  ['C', 'C']\n"
     ]
    }
   ],
   "source": [
    "# groupby\n",
    "\n",
    "gen4 = itertools.groupby('AAABBBCC')\n",
    "for chr, group in gen4:\n",
    "    print(chr, ': ', list(group))"
   ]
  },
  {
   "attachments": {},
   "cell_type": "markdown",
   "metadata": {},
   "source": [
    "# Coroutine\n",
    "\n",
    "- 단일 쓰레드에서 동작하는 비동기 작업"
   ]
  },
  {
   "cell_type": "markdown",
   "metadata": {},
   "source": [
    "- https://www.youtube.com/watch?v=NmSeLspQoAA\n",
    "- https://www.youtube.com/watch?v=GSiZkP7cI80"
   ]
  }
 ],
 "metadata": {
  "kernelspec": {
   "display_name": "study",
   "language": "python",
   "name": "python3"
  },
  "language_info": {
   "codemirror_mode": {
    "name": "ipython",
    "version": 3
   },
   "file_extension": ".py",
   "mimetype": "text/x-python",
   "name": "python",
   "nbconvert_exporter": "python",
   "pygments_lexer": "ipython3",
   "version": "3.8.13"
  },
  "orig_nbformat": 4,
  "vscode": {
   "interpreter": {
    "hash": "56473d5c9d8f93c12d0113467ae9f38a05d45f654e656ab5f4aa2cd94fb216b8"
   }
  }
 },
 "nbformat": 4,
 "nbformat_minor": 2
}
