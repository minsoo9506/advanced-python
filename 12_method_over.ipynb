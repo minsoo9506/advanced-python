{
 "cells": [
  {
   "attachments": {},
   "cell_type": "markdown",
   "metadata": {},
   "source": [
    "# overrding\n",
    "- method를 재정의 후 사용\n",
    "- 다형성"
   ]
  },
  {
   "cell_type": "code",
   "execution_count": 3,
   "metadata": {},
   "outputs": [
    {
     "data": {
      "text/plain": [
       "5"
      ]
     },
     "execution_count": 3,
     "metadata": {},
     "output_type": "execute_result"
    }
   ],
   "source": [
    "class Parent1:\n",
    "    def __init__(self):\n",
    "        self.val = 5\n",
    "\n",
    "    def get_val(self):\n",
    "        return self.val\n",
    "    \n",
    "class Child1(Parent1):\n",
    "    pass\n",
    "\n",
    "c = Child1()\n",
    "c.get_val()"
   ]
  },
  {
   "cell_type": "code",
   "execution_count": 4,
   "metadata": {},
   "outputs": [
    {
     "data": {
      "text/plain": [
       "50"
      ]
     },
     "execution_count": 4,
     "metadata": {},
     "output_type": "execute_result"
    }
   ],
   "source": [
    "# method 재정의\n",
    "\n",
    "class Child2(Parent1):\n",
    "    def get_val(self):\n",
    "        return self.val * 10\n",
    "\n",
    "c = Child2()\n",
    "c.get_val()"
   ]
  },
  {
   "cell_type": "code",
   "execution_count": 5,
   "metadata": {},
   "outputs": [
    {
     "name": "stdout",
     "output_type": "stream",
     "text": [
      "5\n",
      "50\n"
     ]
    }
   ],
   "source": [
    "# 다형성\n",
    "\n",
    "class Parent1:\n",
    "    def __init__(self):\n",
    "        self.val = 5\n",
    "\n",
    "    def get_val(self):\n",
    "        print(self.val)\n",
    "    \n",
    "class Child3(Parent1):\n",
    "    def get_val(self):\n",
    "        super().get_val()  # 부모의 함수도 실행\n",
    "        # super(Child3, self).get_val() 도 동일함\n",
    "        print(self.val * 10)\n",
    "\n",
    "class Child4(Parent1):\n",
    "    def get_val(self):\n",
    "        super().get_val()\n",
    "        print(self.val * 20)\n",
    "\n",
    "c = Child3()\n",
    "c.get_val()"
   ]
  },
  {
   "attachments": {},
   "cell_type": "markdown",
   "metadata": {},
   "source": [
    "# overloading\n",
    "- 파이썬에서 정식으로 지원하지는 않음\n",
    "    - 그래서 `*args`나 파라미터의 종류에 따라 다른 방법으로 접근하는 함수를 만드는 경우가 많다.\n",
    "- 메소드 파라미터 기반 호출\n",
    "    - 예) 파라미터의 갯수에 따라 메소드가 호출"
   ]
  }
 ],
 "metadata": {
  "kernelspec": {
   "display_name": "study",
   "language": "python",
   "name": "python3"
  },
  "language_info": {
   "codemirror_mode": {
    "name": "ipython",
    "version": 3
   },
   "file_extension": ".py",
   "mimetype": "text/x-python",
   "name": "python",
   "nbconvert_exporter": "python",
   "pygments_lexer": "ipython3",
   "version": "3.8.13"
  },
  "orig_nbformat": 4,
  "vscode": {
   "interpreter": {
    "hash": "56473d5c9d8f93c12d0113467ae9f38a05d45f654e656ab5f4aa2cd94fb216b8"
   }
  }
 },
 "nbformat": 4,
 "nbformat_minor": 2
}
